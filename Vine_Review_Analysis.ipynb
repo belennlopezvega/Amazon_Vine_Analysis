{
  "nbformat": 4,
  "nbformat_minor": 0,
  "metadata": {
    "colab": {
      "name": " Vine_Review_Analysis.ipynb",
      "provenance": [],
      "collapsed_sections": []
    },
    "kernelspec": {
      "name": "python3",
      "display_name": "Python 3"
    },
    "language_info": {
      "name": "python"
    }
  },
  "cells": [
    {
      "cell_type": "code",
      "execution_count": 42,
      "metadata": {
        "colab": {
          "base_uri": "https://localhost:8080/"
        },
        "id": "3f7H1Zj9nN5m",
        "outputId": "d430d15d-596e-45d5-ea81-55c28b6802cd"
      },
      "outputs": [
        {
          "output_type": "stream",
          "name": "stdout",
          "text": [
            "\r0% [Working]\r            \rHit:1 https://cloud.r-project.org/bin/linux/ubuntu bionic-cran40/ InRelease\n",
            "\r0% [Connecting to archive.ubuntu.com (91.189.91.38)] [Connecting to security.ub\r0% [1 InRelease gpgv 3,626 B] [Waiting for headers] [Connecting to security.ubu\r                                                                               \rIgn:2 https://developer.download.nvidia.com/compute/cuda/repos/ubuntu1804/x86_64  InRelease\n",
            "\r0% [1 InRelease gpgv 3,626 B] [Waiting for headers] [Connecting to security.ubu\r                                                                               \rIgn:3 https://developer.download.nvidia.com/compute/machine-learning/repos/ubuntu1804/x86_64  InRelease\n",
            "\r0% [1 InRelease gpgv 3,626 B] [Waiting for headers] [Connecting to security.ubu\r                                                                               \rHit:4 http://archive.ubuntu.com/ubuntu bionic InRelease\n",
            "Hit:5 https://developer.download.nvidia.com/compute/cuda/repos/ubuntu1804/x86_64  Release\n",
            "Hit:6 https://developer.download.nvidia.com/compute/machine-learning/repos/ubuntu1804/x86_64  Release\n",
            "Get:7 http://archive.ubuntu.com/ubuntu bionic-updates InRelease [88.7 kB]\n",
            "Get:8 http://security.ubuntu.com/ubuntu bionic-security InRelease [88.7 kB]\n",
            "Hit:9 http://ppa.launchpad.net/c2d4u.team/c2d4u4.0+/ubuntu bionic InRelease\n",
            "Get:10 http://archive.ubuntu.com/ubuntu bionic-backports InRelease [74.6 kB]\n",
            "Hit:11 http://ppa.launchpad.net/cran/libgit2/ubuntu bionic InRelease\n",
            "Hit:12 http://ppa.launchpad.net/deadsnakes/ppa/ubuntu bionic InRelease\n",
            "Hit:14 http://ppa.launchpad.net/graphics-drivers/ppa/ubuntu bionic InRelease\n",
            "Fetched 252 kB in 3s (89.1 kB/s)\n",
            "Reading package lists... Done\n"
          ]
        }
      ],
      "source": [
        "import os\n",
        "# Find the latest version of spark 3.0 from http://www.apache.org/dist/spark/ and enter as the spark version\n",
        "# For example:\n",
        "# spark_version = 'spark-3.0.3'\n",
        "spark_version = 'spark-3.0.3'\n",
        "os.environ['SPARK_VERSION']=spark_version\n",
        "\n",
        "# Install Spark and Java\n",
        "!apt-get update\n",
        "!apt-get install openjdk-11-jdk-headless -qq > /dev/null\n",
        "!wget -q http://www.apache.org/dist/spark/$SPARK_VERSION/$SPARK_VERSION-bin-hadoop2.7.tgz\n",
        "!tar xf $SPARK_VERSION-bin-hadoop2.7.tgz\n",
        "!pip install -q findspark\n",
        "\n",
        "# Set Environment Variables\n",
        "import os\n",
        "os.environ[\"JAVA_HOME\"] = \"/usr/lib/jvm/java-11-openjdk-amd64\"\n",
        "os.environ[\"SPARK_HOME\"] = f\"/content/{spark_version}-bin-hadoop2.7\"\n",
        "\n",
        "# Start a SparkSession\n",
        "import findspark\n",
        "findspark.init()"
      ]
    },
    {
      "cell_type": "code",
      "source": [
        "from pyspark.sql import SparkSession\n",
        "spark = SparkSession.builder.appName(\"M16-Amazon-Challenge\").config(\"spark.driver.extraClassPath\",\"/content/postgresql-42.2.16.jar\").getOrCreate()"
      ],
      "metadata": {
        "id": "C13cZC6FnocJ"
      },
      "execution_count": 43,
      "outputs": []
    },
    {
      "cell_type": "code",
      "source": [
        "from pyspark import SparkFiles\n",
        "url = \"https://s3.amazonaws.com/amazon-reviews-pds/tsv/amazon_reviews_us_Health_Personal_Care_v1_00.tsv.gz\"\n",
        "spark.sparkContext.addFile(url)\n",
        "df = spark.read.option(\"encoding\", \"UTF-8\").csv(SparkFiles.get(\"\"), sep=\"\\t\", header=True, inferSchema=True)"
      ],
      "metadata": {
        "id": "--X0hzbJnvhU"
      },
      "execution_count": 44,
      "outputs": []
    },
    {
      "cell_type": "code",
      "source": [
        "# Recreating vine-table\n",
        "vine_df = df.select([\"review_id\", \"star_rating\", \"helpful_votes\", \"total_votes\", \"vine\", \"verified_purchase\"])\n",
        "vine_df.show()"
      ],
      "metadata": {
        "colab": {
          "base_uri": "https://localhost:8080/"
        },
        "id": "5FIb6VILoCI2",
        "outputId": "cf4fe63f-b97d-4e27-a056-f01f70caca37"
      },
      "execution_count": 45,
      "outputs": [
        {
          "output_type": "stream",
          "name": "stdout",
          "text": [
            "+--------------+-----------+-------------+-----------+----+-----------------+\n",
            "|     review_id|star_rating|helpful_votes|total_votes|vine|verified_purchase|\n",
            "+--------------+-----------+-------------+-----------+----+-----------------+\n",
            "| R3EQSTM9PWRAL|          3|            0|          0|   N|                Y|\n",
            "| RBWPRK17XKIXD|          5|            0|          0|   N|                Y|\n",
            "| RRSLOAF273XFC|          5|            1|          2|   N|                Y|\n",
            "|R3S8W9Q6SWIT8O|          4|            0|          0|   N|                Y|\n",
            "|R3QQ6NSLRVBFJC|          4|            0|          0|   N|                Y|\n",
            "|R2XYDBMHUVJCSX|          2|            0|          1|   N|                Y|\n",
            "|R1L94ESVC657A9|          5|            0|          0|   N|                Y|\n",
            "|R3DI4B8LDWFQ3K|          1|            3|          4|   N|                Y|\n",
            "|R1G7VV4HCXUQQL|          5|            0|          0|   N|                Y|\n",
            "|R3TTNYN1TAMUSU|          5|            0|          0|   N|                Y|\n",
            "|R3AMX2D9HMWV6Z|          5|            0|          0|   N|                Y|\n",
            "|R3PO3K321GY8HI|          1|            0|          0|   N|                Y|\n",
            "| RVQ0UNYX6IEVK|          1|            0|          1|   N|                Y|\n",
            "|R25E9NIGO2XQ3D|          5|            0|          0|   N|                Y|\n",
            "|R3GIEXIIIR2G9Y|          1|            0|          0|   N|                Y|\n",
            "|R264BH3U417NXF|          5|            0|          0|   N|                Y|\n",
            "|R2C6S0XJIMP0Z2|          5|            0|          0|   N|                Y|\n",
            "|R2LRJYGC2YYR2F|          2|            0|          0|   N|                Y|\n",
            "|R3SVW9ZP1CZPW7|          1|            0|          1|   N|                Y|\n",
            "|R1GLA6RQUF4Q79|          4|            0|          0|   N|                Y|\n",
            "+--------------+-----------+-------------+-----------+----+-----------------+\n",
            "only showing top 20 rows\n",
            "\n"
          ]
        }
      ]
    },
    {
      "cell_type": "code",
      "source": [
        "from pyspark.sql.functions import count\n",
        "from pyspark.sql.functions import col"
      ],
      "metadata": {
        "id": "Ejm0G5jsrf-b"
      },
      "execution_count": 46,
      "outputs": []
    },
    {
      "cell_type": "code",
      "source": [
        "# 1. Filter and create new df to retrieve all rows where total_votes => 20\n",
        "total_votes_df = df.filter(\"total_votes >= 20\").select([\"review_id\", \"star_rating\", \"helpful_votes\", \"total_votes\", \"vine\", \"verified_purchase\"])\n",
        "total_votes_df.show()"
      ],
      "metadata": {
        "colab": {
          "base_uri": "https://localhost:8080/"
        },
        "id": "V4EM1C5_oMrH",
        "outputId": "0b848234-02ba-4722-a5b9-222ac3bcfa66"
      },
      "execution_count": 47,
      "outputs": [
        {
          "output_type": "stream",
          "name": "stdout",
          "text": [
            "+--------------+-----------+-------------+-----------+----+-----------------+\n",
            "|     review_id|star_rating|helpful_votes|total_votes|vine|verified_purchase|\n",
            "+--------------+-----------+-------------+-----------+----+-----------------+\n",
            "|R2984F9VD9WDJB|          1|           37|         46|   N|                Y|\n",
            "|R218TGWCIAZYNY|          5|          191|        198|   N|                Y|\n",
            "| RGC2TLSBHLPZA|          5|           49|         50|   N|                Y|\n",
            "|R2YYVOW2RYGRM8|          5|           27|         28|   N|                Y|\n",
            "|R2X4WF89XICSB2|          1|           21|         21|   N|                Y|\n",
            "|R1M1KJ4SQE4INF|          5|           20|         21|   N|                N|\n",
            "|R1M8EEGH2TVS0Q|          1|            6|         29|   N|                Y|\n",
            "| RK8MUEWEUGV6V|          4|          105|        113|   N|                N|\n",
            "|R3JF2SBRHZITRZ|          5|           24|         26|   N|                N|\n",
            "| RLJN73T8WUYIR|          5|          124|        128|   N|                Y|\n",
            "| RYA9ESIATW4EC|          1|           23|         27|   N|                N|\n",
            "|R15RF9IWXWX3IH|          5|           25|         31|   N|                N|\n",
            "|R1GNMWLUMCOC6V|          5|           21|         23|   N|                N|\n",
            "|R3F5N905ZVOXES|          1|            3|         35|   N|                N|\n",
            "|R2SLKTWAJ7BR9K|          5|           33|         36|   N|                Y|\n",
            "|R1NKKJ720BC2VM|          5|           25|         28|   N|                Y|\n",
            "|R3ATNR4AESV090|          4|           38|         40|   N|                Y|\n",
            "|R36XRSNV1M0ADW|          5|           82|         95|   N|                Y|\n",
            "|R203G800OB64XF|          3|           57|         72|   N|                N|\n",
            "|R31LBT37BJZE6B|          1|           14|         20|   N|                Y|\n",
            "+--------------+-----------+-------------+-----------+----+-----------------+\n",
            "only showing top 20 rows\n",
            "\n"
          ]
        }
      ]
    },
    {
      "cell_type": "code",
      "source": [
        "# Create new df to retrieve all the rows where the number of helpful_votes divided by total_votes is equal to or greater than 50%\n",
        "new_df = total_votes_df.withColumn(\"result\", total_votes_df.helpful_votes/total_votes_df.total_votes)\n",
        "new_df.show()"
      ],
      "metadata": {
        "colab": {
          "base_uri": "https://localhost:8080/"
        },
        "id": "dXybNbqIr45K",
        "outputId": "e718fe25-c285-43bc-d694-546e654b47ed"
      },
      "execution_count": 48,
      "outputs": [
        {
          "output_type": "stream",
          "name": "stdout",
          "text": [
            "+--------------+-----------+-------------+-----------+----+-----------------+-------------------+\n",
            "|     review_id|star_rating|helpful_votes|total_votes|vine|verified_purchase|             result|\n",
            "+--------------+-----------+-------------+-----------+----+-----------------+-------------------+\n",
            "|R2984F9VD9WDJB|          1|           37|         46|   N|                Y| 0.8043478260869565|\n",
            "|R218TGWCIAZYNY|          5|          191|        198|   N|                Y| 0.9646464646464646|\n",
            "| RGC2TLSBHLPZA|          5|           49|         50|   N|                Y|               0.98|\n",
            "|R2YYVOW2RYGRM8|          5|           27|         28|   N|                Y| 0.9642857142857143|\n",
            "|R2X4WF89XICSB2|          1|           21|         21|   N|                Y|                1.0|\n",
            "|R1M1KJ4SQE4INF|          5|           20|         21|   N|                N| 0.9523809523809523|\n",
            "|R1M8EEGH2TVS0Q|          1|            6|         29|   N|                Y|0.20689655172413793|\n",
            "| RK8MUEWEUGV6V|          4|          105|        113|   N|                N| 0.9292035398230089|\n",
            "|R3JF2SBRHZITRZ|          5|           24|         26|   N|                N| 0.9230769230769231|\n",
            "| RLJN73T8WUYIR|          5|          124|        128|   N|                Y|            0.96875|\n",
            "| RYA9ESIATW4EC|          1|           23|         27|   N|                N| 0.8518518518518519|\n",
            "|R15RF9IWXWX3IH|          5|           25|         31|   N|                N| 0.8064516129032258|\n",
            "|R1GNMWLUMCOC6V|          5|           21|         23|   N|                N| 0.9130434782608695|\n",
            "|R3F5N905ZVOXES|          1|            3|         35|   N|                N|0.08571428571428572|\n",
            "|R2SLKTWAJ7BR9K|          5|           33|         36|   N|                Y| 0.9166666666666666|\n",
            "|R1NKKJ720BC2VM|          5|           25|         28|   N|                Y| 0.8928571428571429|\n",
            "|R3ATNR4AESV090|          4|           38|         40|   N|                Y|               0.95|\n",
            "|R36XRSNV1M0ADW|          5|           82|         95|   N|                Y| 0.8631578947368421|\n",
            "|R203G800OB64XF|          3|           57|         72|   N|                N| 0.7916666666666666|\n",
            "|R31LBT37BJZE6B|          1|           14|         20|   N|                Y|                0.7|\n",
            "+--------------+-----------+-------------+-----------+----+-----------------+-------------------+\n",
            "only showing top 20 rows\n",
            "\n"
          ]
        }
      ]
    },
    {
      "cell_type": "code",
      "source": [
        "# Create new df to retrieve all the rows where the number of helpful_votes divided by total_votes is equal to or greater than 50%\n",
        "new50_df = new_df.filter(\"result >= .5\")\n",
        "new50_df.show()"
      ],
      "metadata": {
        "colab": {
          "base_uri": "https://localhost:8080/"
        },
        "id": "uya3TiDEEXuS",
        "outputId": "19482d6e-b9c3-4643-b7fc-e9b4ca3a60b3"
      },
      "execution_count": 49,
      "outputs": [
        {
          "output_type": "stream",
          "name": "stdout",
          "text": [
            "+--------------+-----------+-------------+-----------+----+-----------------+------------------+\n",
            "|     review_id|star_rating|helpful_votes|total_votes|vine|verified_purchase|            result|\n",
            "+--------------+-----------+-------------+-----------+----+-----------------+------------------+\n",
            "|R2984F9VD9WDJB|          1|           37|         46|   N|                Y|0.8043478260869565|\n",
            "|R218TGWCIAZYNY|          5|          191|        198|   N|                Y|0.9646464646464646|\n",
            "| RGC2TLSBHLPZA|          5|           49|         50|   N|                Y|              0.98|\n",
            "|R2YYVOW2RYGRM8|          5|           27|         28|   N|                Y|0.9642857142857143|\n",
            "|R2X4WF89XICSB2|          1|           21|         21|   N|                Y|               1.0|\n",
            "|R1M1KJ4SQE4INF|          5|           20|         21|   N|                N|0.9523809523809523|\n",
            "| RK8MUEWEUGV6V|          4|          105|        113|   N|                N|0.9292035398230089|\n",
            "|R3JF2SBRHZITRZ|          5|           24|         26|   N|                N|0.9230769230769231|\n",
            "| RLJN73T8WUYIR|          5|          124|        128|   N|                Y|           0.96875|\n",
            "| RYA9ESIATW4EC|          1|           23|         27|   N|                N|0.8518518518518519|\n",
            "|R15RF9IWXWX3IH|          5|           25|         31|   N|                N|0.8064516129032258|\n",
            "|R1GNMWLUMCOC6V|          5|           21|         23|   N|                N|0.9130434782608695|\n",
            "|R2SLKTWAJ7BR9K|          5|           33|         36|   N|                Y|0.9166666666666666|\n",
            "|R1NKKJ720BC2VM|          5|           25|         28|   N|                Y|0.8928571428571429|\n",
            "|R3ATNR4AESV090|          4|           38|         40|   N|                Y|              0.95|\n",
            "|R36XRSNV1M0ADW|          5|           82|         95|   N|                Y|0.8631578947368421|\n",
            "|R203G800OB64XF|          3|           57|         72|   N|                N|0.7916666666666666|\n",
            "|R31LBT37BJZE6B|          1|           14|         20|   N|                Y|               0.7|\n",
            "|R119CG8XK73M2B|          5|           77|         77|   N|                Y|               1.0|\n",
            "| RCOVDTGR8NH87|          5|           59|         67|   N|                N|0.8805970149253731|\n",
            "+--------------+-----------+-------------+-----------+----+-----------------+------------------+\n",
            "only showing top 20 rows\n",
            "\n"
          ]
        }
      ]
    },
    {
      "cell_type": "code",
      "source": [
        "# Create a new DataFrame that retrieves all the rows where vine == 'Y'\n",
        "vine_yes_df = new50_df.filter(new50_df.vine == \"Y\")\n",
        "vine_yes_df.show()"
      ],
      "metadata": {
        "colab": {
          "base_uri": "https://localhost:8080/"
        },
        "id": "Aae8mZT6xhG4",
        "outputId": "ba878920-59a1-4c66-cfc9-2f331654997f"
      },
      "execution_count": 50,
      "outputs": [
        {
          "output_type": "stream",
          "name": "stdout",
          "text": [
            "+--------------+-----------+-------------+-----------+----+-----------------+------------------+\n",
            "|     review_id|star_rating|helpful_votes|total_votes|vine|verified_purchase|            result|\n",
            "+--------------+-----------+-------------+-----------+----+-----------------+------------------+\n",
            "| RG70K1HMY4LXX|          4|           37|         44|   Y|                N|0.8409090909090909|\n",
            "|R1DHGTNXDXJ0GB|          5|           78|         93|   Y|                N|0.8387096774193549|\n",
            "|R3B5S3OSA8N6AO|          5|           38|         43|   Y|                N|0.8837209302325582|\n",
            "|R29X0YBS0SBIUP|          5|           56|         74|   Y|                N|0.7567567567567568|\n",
            "|R1ZEDMCU6NYC8Q|          3|           26|         27|   Y|                N|0.9629629629629629|\n",
            "| RVBJM1LUI9X9K|          5|           27|         28|   Y|                N|0.9642857142857143|\n",
            "| R1KASHD9QSDMV|          4|           18|         21|   Y|                N|0.8571428571428571|\n",
            "|R1M3LATUI38MK0|          5|           46|         50|   Y|                N|              0.92|\n",
            "|R20JZQ3AQVYNAU|          4|          103|        113|   Y|                N| 0.911504424778761|\n",
            "|R1EHXYTMBO4D28|          1|           56|         61|   Y|                N|0.9180327868852459|\n",
            "|R3FIEE8HAF008L|          1|           23|         26|   Y|                N|0.8846153846153846|\n",
            "| RZJ5628PIAE8M|          4|           23|         23|   Y|                N|               1.0|\n",
            "|R2YTV8JFB132UU|          5|           29|         35|   Y|                N|0.8285714285714286|\n",
            "| R9B39IY63XE6H|          1|           88|         97|   Y|                N|0.9072164948453608|\n",
            "|R3IYA2K7643J5F|          3|           28|         35|   Y|                N|               0.8|\n",
            "|R25HQLXMBJABQL|          5|           93|         97|   Y|                N|0.9587628865979382|\n",
            "|R1NCMEN9DCHB2U|          3|           92|        100|   Y|                N|              0.92|\n",
            "| RFN5GI4LWX31V|          2|           43|         49|   Y|                N|0.8775510204081632|\n",
            "|R1DLUEYOWRMJ2K|          5|          130|        142|   Y|                N|0.9154929577464789|\n",
            "| RXDWRD20KTQO1|          4|           24|         24|   Y|                N|               1.0|\n",
            "+--------------+-----------+-------------+-----------+----+-----------------+------------------+\n",
            "only showing top 20 rows\n",
            "\n"
          ]
        }
      ]
    },
    {
      "cell_type": "code",
      "source": [
        "# # Create a new DataFrame that retrieves all the rows where vine == 'N'\n",
        "vine_no_df = new50_df.filter(new50_df.vine == \"N\")\n",
        "vine_no_df.show()"
      ],
      "metadata": {
        "colab": {
          "base_uri": "https://localhost:8080/"
        },
        "id": "McFbUla-xsjJ",
        "outputId": "6ffc5235-c563-41ef-d881-0e14db2ded8e"
      },
      "execution_count": 51,
      "outputs": [
        {
          "output_type": "stream",
          "name": "stdout",
          "text": [
            "+--------------+-----------+-------------+-----------+----+-----------------+------------------+\n",
            "|     review_id|star_rating|helpful_votes|total_votes|vine|verified_purchase|            result|\n",
            "+--------------+-----------+-------------+-----------+----+-----------------+------------------+\n",
            "|R2984F9VD9WDJB|          1|           37|         46|   N|                Y|0.8043478260869565|\n",
            "|R218TGWCIAZYNY|          5|          191|        198|   N|                Y|0.9646464646464646|\n",
            "| RGC2TLSBHLPZA|          5|           49|         50|   N|                Y|              0.98|\n",
            "|R2YYVOW2RYGRM8|          5|           27|         28|   N|                Y|0.9642857142857143|\n",
            "|R2X4WF89XICSB2|          1|           21|         21|   N|                Y|               1.0|\n",
            "|R1M1KJ4SQE4INF|          5|           20|         21|   N|                N|0.9523809523809523|\n",
            "| RK8MUEWEUGV6V|          4|          105|        113|   N|                N|0.9292035398230089|\n",
            "|R3JF2SBRHZITRZ|          5|           24|         26|   N|                N|0.9230769230769231|\n",
            "| RLJN73T8WUYIR|          5|          124|        128|   N|                Y|           0.96875|\n",
            "| RYA9ESIATW4EC|          1|           23|         27|   N|                N|0.8518518518518519|\n",
            "|R15RF9IWXWX3IH|          5|           25|         31|   N|                N|0.8064516129032258|\n",
            "|R1GNMWLUMCOC6V|          5|           21|         23|   N|                N|0.9130434782608695|\n",
            "|R2SLKTWAJ7BR9K|          5|           33|         36|   N|                Y|0.9166666666666666|\n",
            "|R1NKKJ720BC2VM|          5|           25|         28|   N|                Y|0.8928571428571429|\n",
            "|R3ATNR4AESV090|          4|           38|         40|   N|                Y|              0.95|\n",
            "|R36XRSNV1M0ADW|          5|           82|         95|   N|                Y|0.8631578947368421|\n",
            "|R203G800OB64XF|          3|           57|         72|   N|                N|0.7916666666666666|\n",
            "|R31LBT37BJZE6B|          1|           14|         20|   N|                Y|               0.7|\n",
            "|R119CG8XK73M2B|          5|           77|         77|   N|                Y|               1.0|\n",
            "| RCOVDTGR8NH87|          5|           59|         67|   N|                N|0.8805970149253731|\n",
            "+--------------+-----------+-------------+-----------+----+-----------------+------------------+\n",
            "only showing top 20 rows\n",
            "\n"
          ]
        }
      ]
    },
    {
      "cell_type": "code",
      "source": [
        "# PAID: Determine the total number of paid reviews\n",
        "paid_total_reviews = vine_yes_df.count()\n",
        "paid_total_reviews"
      ],
      "metadata": {
        "colab": {
          "base_uri": "https://localhost:8080/"
        },
        "id": "KfBFdieha8k3",
        "outputId": "500ee8cb-6e5f-4e59-963d-b616ef033c92"
      },
      "execution_count": 58,
      "outputs": [
        {
          "output_type": "execute_result",
          "data": {
            "text/plain": [
              "497"
            ]
          },
          "metadata": {},
          "execution_count": 58
        }
      ]
    },
    {
      "cell_type": "code",
      "source": [
        "# PAID: Total 5 star paid reviews\n",
        "filter_paid_5star_reviews = vine_yes_df.filter(\"star_rating == 5\")\n",
        "paid_5star_reviews = filter_paid_5star_reviews.count()\n",
        "paid_5star_reviews"
      ],
      "metadata": {
        "colab": {
          "base_uri": "https://localhost:8080/"
        },
        "id": "QDm99YsKdlAr",
        "outputId": "2bb48a2f-76a1-4519-e76e-4f0036c1b6be"
      },
      "execution_count": 64,
      "outputs": [
        {
          "output_type": "execute_result",
          "data": {
            "text/plain": [
              "220"
            ]
          },
          "metadata": {},
          "execution_count": 64
        }
      ]
    },
    {
      "cell_type": "code",
      "source": [
        "# PAID: Percentage of 5-star paid reviews\n",
        "percentage_5star_reviews = (paid_5star_reviews/paid_total_reviews) * 100\n",
        "percentage_5star_reviews"
      ],
      "metadata": {
        "colab": {
          "base_uri": "https://localhost:8080/"
        },
        "id": "VXW2IKrYeGii",
        "outputId": "bb923c4a-f4a7-47be-8801-052151367c47"
      },
      "execution_count": 65,
      "outputs": [
        {
          "output_type": "execute_result",
          "data": {
            "text/plain": [
              "44.26559356136821"
            ]
          },
          "metadata": {},
          "execution_count": 65
        }
      ]
    },
    {
      "cell_type": "code",
      "source": [
        "# UNPAID: Determine the total number of unpaid reviews\n",
        "unpaid_total_reviews = vine_no_df.count()\n",
        "unpaid_total_reviews"
      ],
      "metadata": {
        "colab": {
          "base_uri": "https://localhost:8080/"
        },
        "id": "15R80zaEfWUj",
        "outputId": "65262356-3d49-4207-bcb9-2daf905dde68"
      },
      "execution_count": 66,
      "outputs": [
        {
          "output_type": "execute_result",
          "data": {
            "text/plain": [
              "120863"
            ]
          },
          "metadata": {},
          "execution_count": 66
        }
      ]
    },
    {
      "cell_type": "code",
      "source": [
        "# UNPAID: Total 5 star unpaid reviews\n",
        "filter_unpaid_5star_reviews = vine_no_df.filter(\"star_rating == 5\")\n",
        "unpaid_5star_reviews = filter_unpaid_5star_reviews.count()\n",
        "unpaid_5star_reviews"
      ],
      "metadata": {
        "colab": {
          "base_uri": "https://localhost:8080/"
        },
        "id": "UXfNaGZrfiHV",
        "outputId": "de043a49-6197-491c-c3f4-5f1bd2d3b446"
      },
      "execution_count": 67,
      "outputs": [
        {
          "output_type": "execute_result",
          "data": {
            "text/plain": [
              "74470"
            ]
          },
          "metadata": {},
          "execution_count": 67
        }
      ]
    },
    {
      "cell_type": "code",
      "source": [
        "# UNPAID: Percentage of 5-star unpaid reviews\n",
        "percentage_5star_unpaid_reviews = (unpaid_5star_reviews/unpaid_total_reviews) * 100\n",
        "percentage_5star_unpaid_reviews"
      ],
      "metadata": {
        "colab": {
          "base_uri": "https://localhost:8080/"
        },
        "id": "MN8nSBl_fiRJ",
        "outputId": "421e2719-9273-44af-c167-5d32274d73b3"
      },
      "execution_count": 68,
      "outputs": [
        {
          "output_type": "execute_result",
          "data": {
            "text/plain": [
              "61.615217229425056"
            ]
          },
          "metadata": {},
          "execution_count": 68
        }
      ]
    }
  ]
}